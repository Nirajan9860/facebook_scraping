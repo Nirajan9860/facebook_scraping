{
 "cells": [
  {
   "cell_type": "code",
   "execution_count": 7,
   "metadata": {},
   "outputs": [],
   "source": [
    "import pandas as pd\n",
    "import json\n",
    "import ast\n"
   ]
  },
  {
   "cell_type": "code",
   "execution_count": 2,
   "metadata": {},
   "outputs": [],
   "source": [
    "df = pd.read_csv('post_info1.csv')"
   ]
  },
  {
   "cell_type": "code",
   "execution_count": 12,
   "metadata": {},
   "outputs": [
    {
     "data": {
      "text/html": [
       "<div>\n",
       "<style scoped>\n",
       "    .dataframe tbody tr th:only-of-type {\n",
       "        vertical-align: middle;\n",
       "    }\n",
       "\n",
       "    .dataframe tbody tr th {\n",
       "        vertical-align: top;\n",
       "    }\n",
       "\n",
       "    .dataframe thead th {\n",
       "        text-align: right;\n",
       "    }\n",
       "</style>\n",
       "<table border=\"1\" class=\"dataframe\">\n",
       "  <thead>\n",
       "    <tr style=\"text-align: right;\">\n",
       "      <th></th>\n",
       "      <th>Date</th>\n",
       "      <th>Comments</th>\n",
       "    </tr>\n",
       "  </thead>\n",
       "  <tbody>\n",
       "    <tr>\n",
       "      <th>0</th>\n",
       "      <td>Sunday, September 24, 2023 at 1:45 PM</td>\n",
       "      <td>['50 Ko 100 chaii kasari hunchha sir mero 50 m...</td>\n",
       "    </tr>\n",
       "    <tr>\n",
       "      <th>5</th>\n",
       "      <td>Sunday, July 23, 2023 at 12:04 PM</td>\n",
       "      <td>['50 Ko 100 chaii kasari hunchha sir mero 50 m...</td>\n",
       "    </tr>\n",
       "    <tr>\n",
       "      <th>6</th>\n",
       "      <td>Friday, July 14, 2023 at 6:47 PM</td>\n",
       "      <td>['50 Ko 100 chaii kasari hunchha sir mero 50 m...</td>\n",
       "    </tr>\n",
       "    <tr>\n",
       "      <th>39</th>\n",
       "      <td>Sunday, November 6, 2022 at 4:36 PM</td>\n",
       "      <td>['', '', '', '', '', '', '', 'यो rate मा tv सह...</td>\n",
       "    </tr>\n",
       "    <tr>\n",
       "      <th>41</th>\n",
       "      <td>Wednesday, October 19, 2022 at 12:18 PM</td>\n",
       "      <td>['', '', '', '', '', '', '', 'यो rate मा tv सह...</td>\n",
       "    </tr>\n",
       "    <tr>\n",
       "      <th>43</th>\n",
       "      <td>Tuesday, October 11, 2022 at 1:23 PM</td>\n",
       "      <td>['', '', '', '', '', '', '', 'यो rate मा tv सह...</td>\n",
       "    </tr>\n",
       "    <tr>\n",
       "      <th>45</th>\n",
       "      <td>Wednesday, September 28, 2022 at 1:32 PM</td>\n",
       "      <td>['', '', '', '', '', '', '', 'यो rate मा tv सह...</td>\n",
       "    </tr>\n",
       "  </tbody>\n",
       "</table>\n",
       "</div>"
      ],
      "text/plain": [
       "                                        Date  \\\n",
       "0      Sunday, September 24, 2023 at 1:45 PM   \n",
       "5          Sunday, July 23, 2023 at 12:04 PM   \n",
       "6           Friday, July 14, 2023 at 6:47 PM   \n",
       "39       Sunday, November 6, 2022 at 4:36 PM   \n",
       "41   Wednesday, October 19, 2022 at 12:18 PM   \n",
       "43      Tuesday, October 11, 2022 at 1:23 PM   \n",
       "45  Wednesday, September 28, 2022 at 1:32 PM   \n",
       "\n",
       "                                             Comments  \n",
       "0   ['50 Ko 100 chaii kasari hunchha sir mero 50 m...  \n",
       "5   ['50 Ko 100 chaii kasari hunchha sir mero 50 m...  \n",
       "6   ['50 Ko 100 chaii kasari hunchha sir mero 50 m...  \n",
       "39  ['', '', '', '', '', '', '', 'यो rate मा tv सह...  \n",
       "41  ['', '', '', '', '', '', '', 'यो rate मा tv सह...  \n",
       "43  ['', '', '', '', '', '', '', 'यो rate मा tv सह...  \n",
       "45  ['', '', '', '', '', '', '', 'यो rate मा tv सह...  "
      ]
     },
     "execution_count": 12,
     "metadata": {},
     "output_type": "execute_result"
    }
   ],
   "source": [
    "df = df[~(df == \"Nan\").any(axis=1)]\n",
    "df\n"
   ]
  },
  {
   "cell_type": "code",
   "execution_count": 22,
   "metadata": {},
   "outputs": [
    {
     "data": {
      "text/html": [
       "<div>\n",
       "<style scoped>\n",
       "    .dataframe tbody tr th:only-of-type {\n",
       "        vertical-align: middle;\n",
       "    }\n",
       "\n",
       "    .dataframe tbody tr th {\n",
       "        vertical-align: top;\n",
       "    }\n",
       "\n",
       "    .dataframe thead th {\n",
       "        text-align: right;\n",
       "    }\n",
       "</style>\n",
       "<table border=\"1\" class=\"dataframe\">\n",
       "  <thead>\n",
       "    <tr style=\"text-align: right;\">\n",
       "      <th></th>\n",
       "      <th>Sunday, September 24, 2023 at 1:45 PM</th>\n",
       "    </tr>\n",
       "  </thead>\n",
       "  <tbody>\n",
       "    <tr>\n",
       "      <th>0</th>\n",
       "      <td>50 Ko 100 chaii kasari hunchha sir mero 50 mbp...</td>\n",
       "    </tr>\n",
       "    <tr>\n",
       "      <th>1</th>\n",
       "      <td></td>\n",
       "    </tr>\n",
       "    <tr>\n",
       "      <th>2</th>\n",
       "      <td></td>\n",
       "    </tr>\n",
       "    <tr>\n",
       "      <th>3</th>\n",
       "      <td></td>\n",
       "    </tr>\n",
       "    <tr>\n",
       "      <th>4</th>\n",
       "      <td></td>\n",
       "    </tr>\n",
       "    <tr>\n",
       "      <th>5</th>\n",
       "      <td></td>\n",
       "    </tr>\n",
       "    <tr>\n",
       "      <th>6</th>\n",
       "      <td>3 mnths ko kati</td>\n",
       "    </tr>\n",
       "    <tr>\n",
       "      <th>7</th>\n",
       "      <td>Priya Sharma 3000</td>\n",
       "    </tr>\n",
       "  </tbody>\n",
       "</table>\n",
       "</div>"
      ],
      "text/plain": [
       "               Sunday, September 24, 2023 at 1:45 PM\n",
       "0  50 Ko 100 chaii kasari hunchha sir mero 50 mbp...\n",
       "1                                                   \n",
       "2                                                   \n",
       "3                                                   \n",
       "4                                                   \n",
       "5                                                   \n",
       "6                                    3 mnths ko kati\n",
       "7                                  Priya Sharma 3000"
      ]
     },
     "execution_count": 22,
     "metadata": {},
     "output_type": "execute_result"
    }
   ],
   "source": [
    "\n",
    "# for i in range(len(df)):\n",
    "li = ast.literal_eval(df['Comments'][0])\n",
    "new_df = pd.DataFrame({df['Date'][0]:li})\n",
    "new_df\n",
    "\n"
   ]
  },
  {
   "cell_type": "code",
   "execution_count": 23,
   "metadata": {},
   "outputs": [
    {
     "name": "stdout",
     "output_type": "stream",
     "text": [
      "[1, 2, 3, 4, 5]\n"
     ]
    }
   ],
   "source": [
    "import json\n",
    "\n",
    "# Example string containing a JSON array\n",
    "json_string = '[1, 2, 3, 4, 5]'\n",
    "\n",
    "# Parse the string into a list\n",
    "parsed_list = json.loads(json_string)\n",
    "\n",
    "print(parsed_list)  # Output: [1, 2, 3, 4, 5]\n"
   ]
  },
  {
   "cell_type": "code",
   "execution_count": 39,
   "metadata": {},
   "outputs": [],
   "source": [
    "import ast\n"
   ]
  },
  {
   "cell_type": "code",
   "execution_count": 27,
   "metadata": {},
   "outputs": [
    {
     "data": {
      "text/plain": [
       "['Wednesday, September 27, 2023 at 11:08 AM',\n",
       " '',\n",
       " 'Congratulations my Nepal team',\n",
       " 'Worldlink भन्दा पनि छिटो।',\n",
       " 'नेपाली क्रिकेट टिम।',\n",
       " 'Congratulations',\n",
       " 'Great job congrats Nepal',\n",
       " 'Highest margin win २७३']"
      ]
     },
     "execution_count": 27,
     "metadata": {},
     "output_type": "execute_result"
    }
   ],
   "source": [
    "string_list = ast.literal_eval(df['Comments'][0])\n",
    "string_list.insert(0,df['Date'][0])\n",
    "string_list"
   ]
  },
  {
   "cell_type": "code",
   "execution_count": null,
   "metadata": {},
   "outputs": [],
   "source": []
  }
 ],
 "metadata": {
  "kernelspec": {
   "display_name": "Python 3",
   "language": "python",
   "name": "python3"
  },
  "language_info": {
   "codemirror_mode": {
    "name": "ipython",
    "version": 3
   },
   "file_extension": ".py",
   "mimetype": "text/x-python",
   "name": "python",
   "nbconvert_exporter": "python",
   "pygments_lexer": "ipython3",
   "version": "3.11.5"
  },
  "orig_nbformat": 4
 },
 "nbformat": 4,
 "nbformat_minor": 2
}
